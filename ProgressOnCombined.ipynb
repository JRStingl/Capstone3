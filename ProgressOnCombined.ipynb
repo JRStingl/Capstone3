{
 "cells": [
  {
   "cell_type": "code",
   "execution_count": 2,
   "id": "bb827a2b-eafa-4ed7-bc41-0814bb0d04ce",
   "metadata": {},
   "outputs": [],
   "source": [
    "import pickle\n",
    "import pandas as pd\n",
    "import numpy as np\n",
    "from sklearn.feature_extraction.text import CountVectorizer\n",
    "from sklearn.metrics import pairwise_distances, pairwise_distances_chunked\n",
    "from scipy.sparse import vstack\n",
    "from nltk.corpus.reader.wordnet import NOUN\n",
    "from nltk.corpus import wordnet\n",
    "from nltk.tokenize import word_tokenize\n",
    "from nltk.stem import WordNetLemmatizer"
   ]
  },
  {
   "cell_type": "code",
   "execution_count": 2,
   "id": "272cf5d7-74e5-4d8c-a14e-378e00d95174",
   "metadata": {},
   "outputs": [],
   "source": [
    "total = pd.read_csv(\"Combined_Netflix_IMDb_Useful_Columns.csv\", low_memory=False)"
   ]
  },
  {
   "cell_type": "code",
   "execution_count": 3,
   "id": "3c1f68d0-989e-43fc-9807-4742bad32004",
   "metadata": {},
   "outputs": [],
   "source": [
    "total.fillna(\"NAN\",inplace=True)"
   ]
  },
  {
   "cell_type": "code",
   "execution_count": 4,
   "id": "fb75a44d-64c3-4176-9a06-defefc7690a1",
   "metadata": {},
   "outputs": [],
   "source": [
    "total.drop('Unnamed: 0', axis=1, inplace=True)"
   ]
  },
  {
   "cell_type": "code",
   "execution_count": 5,
   "id": "9f4233c5-7f13-443a-b52a-a9654f703b0e",
   "metadata": {},
   "outputs": [],
   "source": [
    "def remove_spaces(lst):\n",
    "    spaces_removed = []\n",
    "    for name in lst:\n",
    "        spaces_removed.append(name.replace(\" \", \"\"))\n",
    "    return spaces_removed"
   ]
  },
  {
   "cell_type": "code",
   "execution_count": 6,
   "id": "d556ebe3-4452-4066-9adb-8c34b4b825c4",
   "metadata": {},
   "outputs": [],
   "source": [
    "def list_for_remove(string):\n",
    "    string=str(string)\n",
    "    return \" \".join(remove_spaces(string.split(\", \")))"
   ]
  },
  {
   "cell_type": "code",
   "execution_count": 7,
   "id": "9b9f0e24-a31a-43dd-b8e4-2042ab2ca42d",
   "metadata": {},
   "outputs": [],
   "source": [
    "def clean_up(pd_df):\n",
    "    #fill any NAN values\n",
    "    pd_df =pd_df.copy()\n",
    "    #remove spaces from actors and directors names\n",
    "    pd_df.actors = pd_df.actors.apply(lambda x: list_for_remove(x))\n",
    "    pd_df.director = pd_df.director.apply(lambda x: list_for_remove(x))\n",
    "    pd_df.genre = pd_df.genre.apply(lambda x: list_for_remove(x))\n",
    "    return pd_df"
   ]
  },
  {
   "cell_type": "code",
   "execution_count": 8,
   "id": "a67d58b6-2471-4ab5-abe8-451e73ff3a63",
   "metadata": {},
   "outputs": [],
   "source": [
    "total = clean_up(total)"
   ]
  },
  {
   "cell_type": "code",
   "execution_count": 9,
   "id": "e1d1b5b0-43fb-4e9c-9fcf-cbddaca38847",
   "metadata": {},
   "outputs": [],
   "source": [
    "def get_keywords(pd_df):\n",
    "    pd_df = pd_df.copy()\n",
    "    pd_df.description = pd_df.description.apply(lambda x: make_keywords(x))\n",
    "    pd_df.original_title = pd_df.original_title.apply(lambda x: make_keywords(x))\n",
    "    return pd_df"
   ]
  },
  {
   "cell_type": "code",
   "execution_count": 10,
   "id": "e7ffb488-2fe7-4f54-b307-92b8b09af6f7",
   "metadata": {},
   "outputs": [],
   "source": [
    "def make_keywords(string,dis=False):\n",
    "    if dis:\n",
    "        string=translated.translate(string)\n",
    "    tokens = word_tokenize(string)\n",
    "    # convert to lower case\n",
    "    tokens = [w.lower() for w in tokens]\n",
    "    # remove punctuation from each word\n",
    "    import string\n",
    "    table = str.maketrans('', '', string.punctuation)\n",
    "    stripped = [w.translate(table) for w in tokens]\n",
    "    # remove remaining tokens that are not alphabetic\n",
    "    words = [word for word in stripped if word.isalpha()]\n",
    "    # filter out stop words\n",
    "    from nltk.corpus import stopwords\n",
    "    stop_words = set(stopwords.words('english'))\n",
    "    if not dis:\n",
    "        stop_words = set(stopwords.words(['arabic', 'azerbaijani', 'danish', 'dutch', 'english', 'finnish', 'french', 'german', 'greek','hungarian', 'indonesian', 'italian', 'kazakh', 'nepali', 'norwegian', 'portuguese', 'romanian', 'russian', 'slovene', 'spanish', 'swedish', 'tajik', 'turkish']))\n",
    "    words = [w for w in words if not w in stop_words]\n",
    "    lem = WordNetLemmatizer()\n",
    "    words = [lem.lemmatize(w) for w in words]\n",
    "    return \" \".join(words)"
   ]
  },
  {
   "cell_type": "code",
   "execution_count": 11,
   "id": "ee8b958c-e518-4277-a9e6-5cb97d4e9f1b",
   "metadata": {},
   "outputs": [],
   "source": [
    "total = get_keywords(total)"
   ]
  },
  {
   "cell_type": "code",
   "execution_count": 14,
   "id": "c7dfe388-a77a-4392-a583-6e1c135ff62a",
   "metadata": {},
   "outputs": [],
   "source": [
    "total.to_csv('in_case.csv')"
   ]
  },
  {
   "cell_type": "code",
   "execution_count": 3,
   "id": "a34c4c05-d426-4571-9114-d83f337cbf4b",
   "metadata": {},
   "outputs": [],
   "source": [
    "total = pd.read_csv('in_case.csv', low_memory=False)"
   ]
  },
  {
   "cell_type": "code",
   "execution_count": 4,
   "id": "56ea57b7-2050-4484-bb3e-c3a3f9c85509",
   "metadata": {},
   "outputs": [],
   "source": [
    "total.drop('Unnamed: 0', axis=1, inplace=True)"
   ]
  },
  {
   "cell_type": "code",
   "execution_count": 29,
   "id": "50179a8a-307b-4db8-9672-79b15a36490e",
   "metadata": {},
   "outputs": [],
   "source": [
    "def mashup(pd_df):\n",
    "    str_list = []\n",
    "    key = ''\n",
    "    direct = ' '\n",
    "    act = ' '\n",
    "    descrip = ' '\n",
    "    for i in range(pd_df.shape[0]):\n",
    "        if i not in pd_df.index:\n",
    "            continue\n",
    "        if pd_df.description[i] != 'NAN':\n",
    "            descrip = pd_df.description[i] + \" \"\n",
    "        if pd_df.actors[i] != 'NAN':\n",
    "            act = (pd_df.actors[i] + \" \") * 5\n",
    "        if pd_df.director[i] != 'NAN':\n",
    "            direct = (pd_df.director[i] + \" \") * 10\n",
    "        \n",
    "        key = direct + \" \" + act + \" \" + descrip + \" \" + ((pd_df.original_title[i] + \" \")*5) + pd_df.genre[i] + \" \" + pd_df.year[i]\n",
    "        str_list.append(key)\n",
    "    return str_list"
   ]
  },
  {
   "cell_type": "code",
   "execution_count": 30,
   "id": "50f51b4b-b2a1-461f-a95c-c6807c013ff0",
   "metadata": {
    "scrolled": true,
    "tags": []
   },
   "outputs": [],
   "source": [
    "total_lst = mashup(total)"
   ]
  },
  {
   "cell_type": "code",
   "execution_count": 5,
   "id": "319f7122-7171-411d-9b00-0780fe18f17a",
   "metadata": {},
   "outputs": [],
   "source": [
    "total = total.fillna(\"NAN\")"
   ]
  },
  {
   "cell_type": "code",
   "execution_count": 28,
   "id": "fe434dda-b62b-4792-adad-88095847b309",
   "metadata": {},
   "outputs": [
    {
     "data": {
      "text/html": [
       "<div>\n",
       "<style scoped>\n",
       "    .dataframe tbody tr th:only-of-type {\n",
       "        vertical-align: middle;\n",
       "    }\n",
       "\n",
       "    .dataframe tbody tr th {\n",
       "        vertical-align: top;\n",
       "    }\n",
       "\n",
       "    .dataframe thead th {\n",
       "        text-align: right;\n",
       "    }\n",
       "</style>\n",
       "<table border=\"1\" class=\"dataframe\">\n",
       "  <thead>\n",
       "    <tr style=\"text-align: right;\">\n",
       "      <th></th>\n",
       "      <th>title_id</th>\n",
       "      <th>type</th>\n",
       "      <th>original_title</th>\n",
       "      <th>director</th>\n",
       "      <th>actors</th>\n",
       "      <th>year</th>\n",
       "      <th>duration</th>\n",
       "      <th>genre</th>\n",
       "      <th>description</th>\n",
       "    </tr>\n",
       "  </thead>\n",
       "  <tbody>\n",
       "    <tr>\n",
       "      <th>0</th>\n",
       "      <td>tt0000009</td>\n",
       "      <td>Movie</td>\n",
       "      <td>miss jerry</td>\n",
       "      <td>AlexanderBlack</td>\n",
       "      <td>BlancheBayliss WilliamCourtenay ChaunceyDepew</td>\n",
       "      <td>1894</td>\n",
       "      <td>45</td>\n",
       "      <td>Romance</td>\n",
       "      <td>adventure female reporter</td>\n",
       "    </tr>\n",
       "    <tr>\n",
       "      <th>1</th>\n",
       "      <td>tt0000574</td>\n",
       "      <td>Movie</td>\n",
       "      <td>story kelly gang</td>\n",
       "      <td>CharlesTait</td>\n",
       "      <td>ElizabethTait JohnTait NormanCampbell BellaCol...</td>\n",
       "      <td>1906</td>\n",
       "      <td>70</td>\n",
       "      <td>Biography Crime Drama</td>\n",
       "      <td>true story notorious australian outlaw kelly</td>\n",
       "    </tr>\n",
       "    <tr>\n",
       "      <th>2</th>\n",
       "      <td>tt0001892</td>\n",
       "      <td>Movie</td>\n",
       "      <td>sorte drøm</td>\n",
       "      <td>UrbanGad</td>\n",
       "      <td>AstaNielsen ValdemarPsilander GunnarHelsengree...</td>\n",
       "      <td>1911</td>\n",
       "      <td>53</td>\n",
       "      <td>Drama</td>\n",
       "      <td>two high rank wooing beautiful famous equestri...</td>\n",
       "    </tr>\n",
       "    <tr>\n",
       "      <th>3</th>\n",
       "      <td>tt0002101</td>\n",
       "      <td>Movie</td>\n",
       "      <td>cleopatra</td>\n",
       "      <td>CharlesL.Gaskill</td>\n",
       "      <td>HelenGardner PearlSindelar MissFielding MissRo...</td>\n",
       "      <td>1912</td>\n",
       "      <td>100</td>\n",
       "      <td>Drama History</td>\n",
       "      <td>fabled queen egypt affair roman general marc a...</td>\n",
       "    </tr>\n",
       "    <tr>\n",
       "      <th>4</th>\n",
       "      <td>tt0002130</td>\n",
       "      <td>Movie</td>\n",
       "      <td>linferno</td>\n",
       "      <td>FrancescoBertolini AdolfoPadovan</td>\n",
       "      <td>SalvatorePapa ArturoPirovano GiuseppedeLiguoro...</td>\n",
       "      <td>1911</td>\n",
       "      <td>68</td>\n",
       "      <td>Adventure Drama Fantasy</td>\n",
       "      <td>loosely adapted dante divine comedy inspired i...</td>\n",
       "    </tr>\n",
       "    <tr>\n",
       "      <th>...</th>\n",
       "      <td>...</td>\n",
       "      <td>...</td>\n",
       "      <td>...</td>\n",
       "      <td>...</td>\n",
       "      <td>...</td>\n",
       "      <td>...</td>\n",
       "      <td>...</td>\n",
       "      <td>...</td>\n",
       "      <td>...</td>\n",
       "    </tr>\n",
       "    <tr>\n",
       "      <th>93637</th>\n",
       "      <td>s7783</td>\n",
       "      <td>Movie</td>\n",
       "      <td>zozo</td>\n",
       "      <td>JosefFares</td>\n",
       "      <td>ImadCreidi AntoinetteTurk EliasGergi CarmenLeb...</td>\n",
       "      <td>2005</td>\n",
       "      <td>99</td>\n",
       "      <td>Dramas InternationalMovies</td>\n",
       "      <td>lebanon civil deprives zozo family left grief ...</td>\n",
       "    </tr>\n",
       "    <tr>\n",
       "      <th>93638</th>\n",
       "      <td>s7784</td>\n",
       "      <td>Movie</td>\n",
       "      <td>zubaan</td>\n",
       "      <td>MozezSingh</td>\n",
       "      <td>VickyKaushal Sarah-JaneDias RaaghavChanana Man...</td>\n",
       "      <td>2015</td>\n",
       "      <td>111</td>\n",
       "      <td>Dramas InternationalMovies Music&amp;Musicals</td>\n",
       "      <td>scrappy poor boy worm way tycoon dysfunctional...</td>\n",
       "    </tr>\n",
       "    <tr>\n",
       "      <th>93639</th>\n",
       "      <td>s7785</td>\n",
       "      <td>Movie</td>\n",
       "      <td>zulu japan</td>\n",
       "      <td>NAN</td>\n",
       "      <td>NastyC</td>\n",
       "      <td>2019</td>\n",
       "      <td>44</td>\n",
       "      <td>Documentaries InternationalMovies Music&amp;Musicals</td>\n",
       "      <td>documentary south african rapper nasty hit sta...</td>\n",
       "    </tr>\n",
       "    <tr>\n",
       "      <th>93640</th>\n",
       "      <td>s7786</td>\n",
       "      <td>TV Show</td>\n",
       "      <td>zumbo dessert</td>\n",
       "      <td>NAN</td>\n",
       "      <td>AdrianoZumbo RachelKhoo</td>\n",
       "      <td>2019</td>\n",
       "      <td>1 Season</td>\n",
       "      <td>InternationalTVShows RealityTV</td>\n",
       "      <td>dessert wizard adriano zumbo look next willy w...</td>\n",
       "    </tr>\n",
       "    <tr>\n",
       "      <th>93641</th>\n",
       "      <td>s7787</td>\n",
       "      <td>Movie</td>\n",
       "      <td>zz top little ol band texas</td>\n",
       "      <td>SamDunn</td>\n",
       "      <td>NAN</td>\n",
       "      <td>2019</td>\n",
       "      <td>90</td>\n",
       "      <td>Documentaries Music&amp;Musicals</td>\n",
       "      <td>documentary delf mystique behind bluesrock tri...</td>\n",
       "    </tr>\n",
       "  </tbody>\n",
       "</table>\n",
       "<p>93642 rows × 9 columns</p>\n",
       "</div>"
      ],
      "text/plain": [
       "        title_id     type               original_title  \\\n",
       "0      tt0000009    Movie                   miss jerry   \n",
       "1      tt0000574    Movie             story kelly gang   \n",
       "2      tt0001892    Movie                   sorte drøm   \n",
       "3      tt0002101    Movie                    cleopatra   \n",
       "4      tt0002130    Movie                     linferno   \n",
       "...          ...      ...                          ...   \n",
       "93637      s7783    Movie                         zozo   \n",
       "93638      s7784    Movie                       zubaan   \n",
       "93639      s7785    Movie                   zulu japan   \n",
       "93640      s7786  TV Show                zumbo dessert   \n",
       "93641      s7787    Movie  zz top little ol band texas   \n",
       "\n",
       "                               director  \\\n",
       "0                        AlexanderBlack   \n",
       "1                           CharlesTait   \n",
       "2                              UrbanGad   \n",
       "3                      CharlesL.Gaskill   \n",
       "4      FrancescoBertolini AdolfoPadovan   \n",
       "...                                 ...   \n",
       "93637                        JosefFares   \n",
       "93638                        MozezSingh   \n",
       "93639                               NAN   \n",
       "93640                               NAN   \n",
       "93641                           SamDunn   \n",
       "\n",
       "                                                  actors  year  duration  \\\n",
       "0          BlancheBayliss WilliamCourtenay ChaunceyDepew  1894        45   \n",
       "1      ElizabethTait JohnTait NormanCampbell BellaCol...  1906        70   \n",
       "2      AstaNielsen ValdemarPsilander GunnarHelsengree...  1911        53   \n",
       "3      HelenGardner PearlSindelar MissFielding MissRo...  1912       100   \n",
       "4      SalvatorePapa ArturoPirovano GiuseppedeLiguoro...  1911        68   \n",
       "...                                                  ...   ...       ...   \n",
       "93637  ImadCreidi AntoinetteTurk EliasGergi CarmenLeb...  2005        99   \n",
       "93638  VickyKaushal Sarah-JaneDias RaaghavChanana Man...  2015       111   \n",
       "93639                                             NastyC  2019        44   \n",
       "93640                            AdrianoZumbo RachelKhoo  2019  1 Season   \n",
       "93641                                                NAN  2019        90   \n",
       "\n",
       "                                                  genre  \\\n",
       "0                                               Romance   \n",
       "1                                 Biography Crime Drama   \n",
       "2                                                 Drama   \n",
       "3                                         Drama History   \n",
       "4                               Adventure Drama Fantasy   \n",
       "...                                                 ...   \n",
       "93637                        Dramas InternationalMovies   \n",
       "93638         Dramas InternationalMovies Music&Musicals   \n",
       "93639  Documentaries InternationalMovies Music&Musicals   \n",
       "93640                    InternationalTVShows RealityTV   \n",
       "93641                      Documentaries Music&Musicals   \n",
       "\n",
       "                                             description  \n",
       "0                              adventure female reporter  \n",
       "1           true story notorious australian outlaw kelly  \n",
       "2      two high rank wooing beautiful famous equestri...  \n",
       "3      fabled queen egypt affair roman general marc a...  \n",
       "4      loosely adapted dante divine comedy inspired i...  \n",
       "...                                                  ...  \n",
       "93637  lebanon civil deprives zozo family left grief ...  \n",
       "93638  scrappy poor boy worm way tycoon dysfunctional...  \n",
       "93639  documentary south african rapper nasty hit sta...  \n",
       "93640  dessert wizard adriano zumbo look next willy w...  \n",
       "93641  documentary delf mystique behind bluesrock tri...  \n",
       "\n",
       "[93642 rows x 9 columns]"
      ]
     },
     "execution_count": 28,
     "metadata": {},
     "output_type": "execute_result"
    }
   ],
   "source": [
    "total"
   ]
  },
  {
   "cell_type": "code",
   "execution_count": 36,
   "id": "66464ac8-78db-4245-8ad5-aa0a12ea4261",
   "metadata": {},
   "outputs": [],
   "source": [
    "# (total.actors[i]+\" \")*5"
   ]
  },
  {
   "cell_type": "markdown",
   "id": "3fe377a8-fc8d-43d5-a576-7b2ea9ad02fc",
   "metadata": {
    "tags": []
   },
   "source": [
    "The Following Cells were for getting the total title list don't run again."
   ]
  },
  {
   "cell_type": "code",
   "execution_count": 18,
   "id": "0d509be8-2a7d-47a8-b68a-e8e97a23fe0d",
   "metadata": {
    "tags": []
   },
   "outputs": [],
   "source": [
    "# for_list = pd.read_csv(\"Combined_Netflix_IMDb_Useful_Columns.csv\", low_memory=False)"
   ]
  },
  {
   "cell_type": "code",
   "execution_count": 19,
   "id": "201fac80-a8ea-46d7-a486-8b5ef3c9c777",
   "metadata": {
    "tags": []
   },
   "outputs": [],
   "source": [
    "# title_list = for_list.original_title.to_list()"
   ]
  },
  {
   "cell_type": "code",
   "execution_count": 22,
   "id": "1a9eb3ba-6293-4037-8776-bf1183ef21f2",
   "metadata": {},
   "outputs": [],
   "source": [
    "# for k, v in enumerate(title_list):\n",
    "#     title_list[k] = v + \" (\"+for_list.year.iloc[k]+\")\""
   ]
  },
  {
   "cell_type": "code",
   "execution_count": 25,
   "id": "dc20d4b0-0be8-4699-b74c-21e44843062b",
   "metadata": {},
   "outputs": [],
   "source": [
    "# dbfile = open(f'all_title_list.pkl', 'ab')\n",
    "# # source, destination\n",
    "# pickle.dump(title_list, dbfile)                     \n",
    "# dbfile.close()"
   ]
  },
  {
   "cell_type": "code",
   "execution_count": 22,
   "id": "ac1d60fb-7fc4-4093-8941-7913ce64a321",
   "metadata": {},
   "outputs": [],
   "source": [
    "# dbfile = open(f'all_title_list.pkl', 'rb')\n",
    "# # source, destination\n",
    "# title = pickle.load(dbfile)                     \n",
    "# dbfile.close()"
   ]
  },
  {
   "cell_type": "code",
   "execution_count": 31,
   "id": "213ccff0-ce83-46b2-a3bf-543d52f5eb25",
   "metadata": {},
   "outputs": [],
   "source": [
    "vectorizor = CountVectorizer()\n",
    "keys = vectorizor.fit_transform(total_lst)"
   ]
  },
  {
   "cell_type": "code",
   "execution_count": 32,
   "id": "3b41d1af-6b1f-4690-84f6-83aca4a43b3a",
   "metadata": {},
   "outputs": [],
   "source": [
    "dist = pairwise_distances_chunked(keys, metric='cosine')"
   ]
  },
  {
   "cell_type": "code",
   "execution_count": 33,
   "id": "f8f071a9-fdc9-4a57-9209-6482b27f6d02",
   "metadata": {
    "scrolled": true,
    "tags": []
   },
   "outputs": [
    {
     "name": "stdout",
     "output_type": "stream",
     "text": [
      "1433\n",
      "2866\n",
      "4299\n",
      "5732\n",
      "7165\n",
      "8598\n",
      "10031\n",
      "11464\n",
      "12897\n",
      "14330\n",
      "15763\n",
      "17196\n",
      "18629\n",
      "20062\n",
      "21495\n",
      "22928\n",
      "24361\n",
      "25794\n",
      "27227\n",
      "28660\n",
      "30093\n",
      "31526\n",
      "32959\n",
      "34392\n",
      "35825\n",
      "37258\n",
      "38691\n",
      "40124\n",
      "41557\n",
      "42990\n",
      "44423\n",
      "45856\n",
      "47289\n",
      "48722\n",
      "50155\n",
      "51588\n",
      "53021\n",
      "54454\n",
      "55887\n",
      "57320\n",
      "58753\n",
      "60186\n",
      "61619\n",
      "63052\n",
      "64485\n",
      "65918\n",
      "67351\n",
      "68784\n",
      "70217\n",
      "71650\n",
      "73083\n",
      "74516\n",
      "75949\n",
      "77382\n",
      "78815\n",
      "80248\n",
      "81681\n",
      "83114\n",
      "84547\n",
      "85980\n",
      "87413\n",
      "88846\n",
      "90279\n",
      "91712\n",
      "93145\n",
      "93642\n"
     ]
    }
   ],
   "source": [
    "y=0\n",
    "while (y < total.shape[0]):\n",
    "    pull = next(dist)\n",
    "    y += pull.shape[0]\n",
    "    print(y)\n",
    "    dbfile = open(f'distance/weights_full_set{y}.pkl', 'ab')\n",
    "    # source, destination\n",
    "    pickle.dump(pull, dbfile)                     \n",
    "    dbfile.close()"
   ]
  },
  {
   "cell_type": "code",
   "execution_count": null,
   "id": "28f647ea-752e-4f12-a421-36ee120f0588",
   "metadata": {},
   "outputs": [],
   "source": []
  },
  {
   "cell_type": "code",
   "execution_count": 27,
   "id": "ccd5380e-c02c-4fdd-a358-9630a9ec6f4b",
   "metadata": {
    "scrolled": true,
    "tags": []
   },
   "outputs": [
    {
     "data": {
      "text/plain": [
       "3"
      ]
     },
     "execution_count": 27,
     "metadata": {},
     "output_type": "execute_result"
    }
   ],
   "source": [
    "lst = []\n",
    "for val in total.duration:\n",
    "    if len(val)<4:\n",
    "        lst.append(int(val))\n",
    "min(lst)"
   ]
  },
  {
   "cell_type": "code",
   "execution_count": 25,
   "id": "5b8dedbc-4c9c-46df-8d52-187aa5947edb",
   "metadata": {},
   "outputs": [
    {
     "data": {
      "text/html": [
       "<div>\n",
       "<style scoped>\n",
       "    .dataframe tbody tr th:only-of-type {\n",
       "        vertical-align: middle;\n",
       "    }\n",
       "\n",
       "    .dataframe tbody tr th {\n",
       "        vertical-align: top;\n",
       "    }\n",
       "\n",
       "    .dataframe thead th {\n",
       "        text-align: right;\n",
       "    }\n",
       "</style>\n",
       "<table border=\"1\" class=\"dataframe\">\n",
       "  <thead>\n",
       "    <tr style=\"text-align: right;\">\n",
       "      <th></th>\n",
       "      <th>title_id</th>\n",
       "      <th>type</th>\n",
       "      <th>original_title</th>\n",
       "      <th>director</th>\n",
       "      <th>actors</th>\n",
       "      <th>year</th>\n",
       "      <th>duration</th>\n",
       "      <th>genre</th>\n",
       "      <th>description</th>\n",
       "    </tr>\n",
       "  </thead>\n",
       "  <tbody>\n",
       "    <tr>\n",
       "      <th>91460</th>\n",
       "      <td>s5606</td>\n",
       "      <td>Movie</td>\n",
       "      <td>silent</td>\n",
       "      <td>LimbertFabian BrandonOldenburg</td>\n",
       "      <td>NAN</td>\n",
       "      <td>2014</td>\n",
       "      <td>3</td>\n",
       "      <td>Children&amp;FamilyMovies Sci-Fi&amp;Fantasy</td>\n",
       "      <td>silent animated short film created academy win...</td>\n",
       "    </tr>\n",
       "  </tbody>\n",
       "</table>\n",
       "</div>"
      ],
      "text/plain": [
       "      title_id   type original_title                        director actors  \\\n",
       "91460    s5606  Movie         silent  LimbertFabian BrandonOldenburg    NAN   \n",
       "\n",
       "       year duration                                 genre  \\\n",
       "91460  2014        3  Children&FamilyMovies Sci-Fi&Fantasy   \n",
       "\n",
       "                                             description  \n",
       "91460  silent animated short film created academy win...  "
      ]
     },
     "execution_count": 25,
     "metadata": {},
     "output_type": "execute_result"
    }
   ],
   "source": [
    "total[total.duration=='3']"
   ]
  },
  {
   "cell_type": "code",
   "execution_count": null,
   "id": "14b0307a-c560-47e5-8d9b-ebb3c9cb9ca4",
   "metadata": {},
   "outputs": [],
   "source": []
  }
 ],
 "metadata": {
  "kernelspec": {
   "display_name": "Python 3",
   "language": "python",
   "name": "python3"
  },
  "language_info": {
   "codemirror_mode": {
    "name": "ipython",
    "version": 3
   },
   "file_extension": ".py",
   "mimetype": "text/x-python",
   "name": "python",
   "nbconvert_exporter": "python",
   "pygments_lexer": "ipython3",
   "version": "3.8.2"
  }
 },
 "nbformat": 4,
 "nbformat_minor": 5
}

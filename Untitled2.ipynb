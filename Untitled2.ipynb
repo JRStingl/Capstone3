{
 "cells": [
  {
   "cell_type": "code",
   "execution_count": 1,
   "id": "ab6ce15d-1831-4521-a6c9-be113f7061c6",
   "metadata": {},
   "outputs": [],
   "source": [
    "from pyspark.ml.evaluation import RegressionEvaluator\n",
    "from pyspark.ml.recommendation import ALS\n",
    "from pyspark.sql import Row, Column\n",
    "from pyspark.sql import SparkSession\n",
    "from sklearn.metrics.pairwise import cosine_similarity\n",
    "import pandas as pd\n",
    "import numpy as np\n",
    "import pickle\n",
    "from sklearn.metrics import pairwise_distances\n",
    "from sklearn.feature_extraction.text import CountVectorizer, TfidfVectorizer"
   ]
  },
  {
   "cell_type": "code",
   "execution_count": 2,
   "id": "fcd2a87d-18b6-4341-af3d-231e2f650f56",
   "metadata": {},
   "outputs": [
    {
     "name": "stderr",
     "output_type": "stream",
     "text": [
      "WARNING: An illegal reflective access operation has occurred\n",
      "WARNING: Illegal reflective access by org.apache.spark.unsafe.Platform (file:/usr/local/spark-3.1.2-bin-hadoop3.2/jars/spark-unsafe_2.12-3.1.2.jar) to constructor java.nio.DirectByteBuffer(long,int)\n",
      "WARNING: Please consider reporting this to the maintainers of org.apache.spark.unsafe.Platform\n",
      "WARNING: Use --illegal-access=warn to enable warnings of further illegal reflective access operations\n",
      "WARNING: All illegal access operations will be denied in a future release\n",
      "21/08/02 18:10:35 WARN NativeCodeLoader: Unable to load native-hadoop library for your platform... using builtin-java classes where applicable\n",
      "Using Spark's default log4j profile: org/apache/spark/log4j-defaults.properties\n",
      "Setting default log level to \"WARN\".\n",
      "To adjust logging level use sc.setLogLevel(newLevel). For SparkR, use setLogLevel(newLevel).\n"
     ]
    }
   ],
   "source": [
    "\n",
    "# Setup a SparkSession\n",
    "spark = SparkSession.builder.getOrCreate()"
   ]
  },
  {
   "cell_type": "code",
   "execution_count": 3,
   "id": "4c2338c9-8018-4aea-8e7a-088efb97d8b7",
   "metadata": {},
   "outputs": [],
   "source": [
    "dbfile = open(\"mashup.pkl\", 'rb')  \n",
    "imdb_lst = pickle.load(dbfile)\n",
    "dbfile.close()\n",
    "cleaned_imdb = pd.read_csv(\"small_title.csv\")"
   ]
  },
  {
   "cell_type": "code",
   "execution_count": 4,
   "id": "cf133eb5-7548-47e8-a576-af0af60e52a5",
   "metadata": {},
   "outputs": [],
   "source": [
    "cleaned_imdb[\"bag_of_words\"]=imdb_lst"
   ]
  },
  {
   "cell_type": "code",
   "execution_count": 5,
   "id": "3560d8c1-c5c9-4d9c-b57b-bc53247ed827",
   "metadata": {},
   "outputs": [
    {
     "data": {
      "text/html": [
       "<div>\n",
       "<style scoped>\n",
       "    .dataframe tbody tr th:only-of-type {\n",
       "        vertical-align: middle;\n",
       "    }\n",
       "\n",
       "    .dataframe tbody tr th {\n",
       "        vertical-align: top;\n",
       "    }\n",
       "\n",
       "    .dataframe thead th {\n",
       "        text-align: right;\n",
       "    }\n",
       "</style>\n",
       "<table border=\"1\" class=\"dataframe\">\n",
       "  <thead>\n",
       "    <tr style=\"text-align: right;\">\n",
       "      <th></th>\n",
       "      <th>Unnamed: 0</th>\n",
       "      <th>title</th>\n",
       "      <th>bag_of_words</th>\n",
       "    </tr>\n",
       "  </thead>\n",
       "  <tbody>\n",
       "    <tr>\n",
       "      <th>0</th>\n",
       "      <td>0</td>\n",
       "      <td>Miss Jerry</td>\n",
       "      <td>adventure female reporter BlancheBayliss Willi...</td>\n",
       "    </tr>\n",
       "    <tr>\n",
       "      <th>1</th>\n",
       "      <td>1</td>\n",
       "      <td>The Story of the Kelly Gang</td>\n",
       "      <td>true story notorious australian outlaw ned kel...</td>\n",
       "    </tr>\n",
       "    <tr>\n",
       "      <th>2</th>\n",
       "      <td>2</td>\n",
       "      <td>Den sorte drøm</td>\n",
       "      <td>two men high rank wooing beautiful famous eque...</td>\n",
       "    </tr>\n",
       "    <tr>\n",
       "      <th>3</th>\n",
       "      <td>3</td>\n",
       "      <td>Cleopatra</td>\n",
       "      <td>fabled queen egypt affair roman general marc a...</td>\n",
       "    </tr>\n",
       "    <tr>\n",
       "      <th>4</th>\n",
       "      <td>4</td>\n",
       "      <td>L'Inferno</td>\n",
       "      <td>loosely adapted dante divine comedy inspired i...</td>\n",
       "    </tr>\n",
       "    <tr>\n",
       "      <th>...</th>\n",
       "      <td>...</td>\n",
       "      <td>...</td>\n",
       "      <td>...</td>\n",
       "    </tr>\n",
       "    <tr>\n",
       "      <th>85850</th>\n",
       "      <td>85850</td>\n",
       "      <td>Le lion</td>\n",
       "      <td>psychiatric hospital patient pretend crazy cha...</td>\n",
       "    </tr>\n",
       "    <tr>\n",
       "      <th>85851</th>\n",
       "      <td>85851</td>\n",
       "      <td>De Beentjes van Sint-Hildegard</td>\n",
       "      <td>middleaged veterinary surgeon belief wife pamp...</td>\n",
       "    </tr>\n",
       "    <tr>\n",
       "      <th>85852</th>\n",
       "      <td>85852</td>\n",
       "      <td>Padmavyuhathile Abhimanyu</td>\n",
       "      <td>unknown AnoopChandran Indrans SonaNair SimonBr...</td>\n",
       "    </tr>\n",
       "    <tr>\n",
       "      <th>85853</th>\n",
       "      <td>85853</td>\n",
       "      <td>Sokagin Çocuklari</td>\n",
       "      <td>unknown AhmetFaikAkinci BelmaMamati MetinKeçec...</td>\n",
       "    </tr>\n",
       "    <tr>\n",
       "      <th>85854</th>\n",
       "      <td>85854</td>\n",
       "      <td>La vida sense la Sara Amat</td>\n",
       "      <td>pep boy love girl grandparent village sara ama...</td>\n",
       "    </tr>\n",
       "  </tbody>\n",
       "</table>\n",
       "<p>85855 rows × 3 columns</p>\n",
       "</div>"
      ],
      "text/plain": [
       "       Unnamed: 0                           title  \\\n",
       "0               0                      Miss Jerry   \n",
       "1               1     The Story of the Kelly Gang   \n",
       "2               2                  Den sorte drøm   \n",
       "3               3                       Cleopatra   \n",
       "4               4                       L'Inferno   \n",
       "...           ...                             ...   \n",
       "85850       85850                         Le lion   \n",
       "85851       85851  De Beentjes van Sint-Hildegard   \n",
       "85852       85852       Padmavyuhathile Abhimanyu   \n",
       "85853       85853               Sokagin Çocuklari   \n",
       "85854       85854      La vida sense la Sara Amat   \n",
       "\n",
       "                                            bag_of_words  \n",
       "0      adventure female reporter BlancheBayliss Willi...  \n",
       "1      true story notorious australian outlaw ned kel...  \n",
       "2      two men high rank wooing beautiful famous eque...  \n",
       "3      fabled queen egypt affair roman general marc a...  \n",
       "4      loosely adapted dante divine comedy inspired i...  \n",
       "...                                                  ...  \n",
       "85850  psychiatric hospital patient pretend crazy cha...  \n",
       "85851  middleaged veterinary surgeon belief wife pamp...  \n",
       "85852  unknown AnoopChandran Indrans SonaNair SimonBr...  \n",
       "85853  unknown AhmetFaikAkinci BelmaMamati MetinKeçec...  \n",
       "85854  pep boy love girl grandparent village sara ama...  \n",
       "\n",
       "[85855 rows x 3 columns]"
      ]
     },
     "execution_count": 5,
     "metadata": {},
     "output_type": "execute_result"
    }
   ],
   "source": [
    "cleaned_imdb"
   ]
  },
  {
   "cell_type": "code",
   "execution_count": 6,
   "id": "34afb2bc-5174-4f12-99a8-ca682c694621",
   "metadata": {},
   "outputs": [],
   "source": [
    "ratings = spark.createDataFrame(cleaned_imdb) "
   ]
  },
  {
   "cell_type": "code",
   "execution_count": 7,
   "id": "42858e49-720d-441e-985b-b9469609670b",
   "metadata": {},
   "outputs": [
    {
     "name": "stderr",
     "output_type": "stream",
     "text": [
      "21/08/02 18:10:41 WARN TaskSetManager: Stage 0 contains a task of very large size (1630 KiB). The maximum recommended task size is 1000 KiB.\n"
     ]
    },
    {
     "name": "stdout",
     "output_type": "stream",
     "text": [
      "+----------+--------------------+--------------------+\n",
      "|Unnamed: 0|               title|        bag_of_words|\n",
      "+----------+--------------------+--------------------+\n",
      "|         0|          Miss Jerry|adventure female ...|\n",
      "|         1|The Story of the ...|true story notori...|\n",
      "|         2|      Den sorte drøm|two men high rank...|\n",
      "|         3|           Cleopatra|fabled queen egyp...|\n",
      "|         4|           L'Inferno|loosely adapted d...|\n",
      "|         5|From the Manger t...|account life jesu...|\n",
      "|         6|      Madame DuBarry|story madame duba...|\n",
      "|         7|          Quo Vadis?|epic italian film...|\n",
      "|         8|Independenta Roma...|movie depicts rom...|\n",
      "|         9|         Richard III|richard glouceste...|\n",
      "|        10|            Atlantis|dr friedrich wife...|\n",
      "|        11|Fantômas - À l'om...|inspector juve ta...|\n",
      "|        12|Il calvario di un...|single mother sep...|\n",
      "|        13|Juve contre Fantômas|part two louis fe...|\n",
      "|        14|Ma l'amor mio non...|leslie swayne adv...|\n",
      "|        15|Maudite soit la g...|army pilot visit ...|\n",
      "|        16|     Le mort qui tue|body disappears i...|\n",
      "|        17|      Amore di madre|john howard payne...|\n",
      "|        18|Lo studente di Praga|balduin student p...|\n",
      "|        19|    Traffic in Souls|woman aid police ...|\n",
      "+----------+--------------------+--------------------+\n",
      "only showing top 20 rows\n",
      "\n"
     ]
    },
    {
     "name": "stderr",
     "output_type": "stream",
     "text": [
      "                                                                                \r"
     ]
    }
   ],
   "source": [
    "ratings.show()"
   ]
  },
  {
   "cell_type": "code",
   "execution_count": 8,
   "id": "e6e651da-51cb-40ee-9658-b10a6aa469f5",
   "metadata": {},
   "outputs": [],
   "source": [
    "vectorizor = CountVectorizer()\n",
    "keys = vectorizor.fit_transform(cleaned_imdb.bag_of_words,y=cleaned_imdb.title)"
   ]
  },
  {
   "cell_type": "code",
   "execution_count": null,
   "id": "b6f00b27-3f06-4fec-911a-a18a5d184a05",
   "metadata": {},
   "outputs": [],
   "source": [
    "distances = pairwise_distances(keys,metric='cosine')"
   ]
  },
  {
   "cell_type": "code",
   "execution_count": null,
   "id": "ea736dc7-1890-4090-9f2f-86167f1e81df",
   "metadata": {},
   "outputs": [],
   "source": [
    "distances = cosine_similarity(keys,keys)"
   ]
  },
  {
   "cell_type": "code",
   "execution_count": 11,
   "id": "d37ab25e-d49e-4dd8-bca0-024b047006ce",
   "metadata": {},
   "outputs": [],
   "source": [
    "tf_vec = TfidfVectorizer()"
   ]
  },
  {
   "cell_type": "code",
   "execution_count": 12,
   "id": "7b21a909-986d-4e3b-92f2-d848b4ee5b0d",
   "metadata": {},
   "outputs": [],
   "source": [
    "keyed = tf_vec.fit_transform(cleaned_imdb.bag_of_words)"
   ]
  },
  {
   "cell_type": "code",
   "execution_count": null,
   "id": "ab52fc5f-85fa-4a55-84bf-6b3b136a4ae5",
   "metadata": {},
   "outputs": [],
   "source": [
    "# Calculating the similarity measures based on Cosine Similarity\n",
    "sg = cosine_similarity(keyed, keyed)"
   ]
  },
  {
   "cell_type": "code",
   "execution_count": null,
   "id": "7c8bce3e-25ec-41f4-9134-764c5627d6a8",
   "metadata": {},
   "outputs": [],
   "source": [
    "    # Get the index corresponding to original_title\n",
    "       \n",
    "    idx = indices[title]# Get the pairwsie similarity scores \n",
    "    sig = list(enumerate(sg[idx]))# Sort the books\n",
    "    sig = sorted(sig, key=lambda x: x[1], reverse=True)# Scores of the 5 most similar books \n",
    "    sig = sig[1:6]# Book indicies\n",
    "    movie_indices = [i[0] for i in sig]"
   ]
  }
 ],
 "metadata": {
  "kernelspec": {
   "display_name": "Python 3",
   "language": "python",
   "name": "python3"
  },
  "language_info": {
   "codemirror_mode": {
    "name": "ipython",
    "version": 3
   },
   "file_extension": ".py",
   "mimetype": "text/x-python",
   "name": "python",
   "nbconvert_exporter": "python",
   "pygments_lexer": "ipython3",
   "version": "3.8.2"
  }
 },
 "nbformat": 4,
 "nbformat_minor": 5
}
